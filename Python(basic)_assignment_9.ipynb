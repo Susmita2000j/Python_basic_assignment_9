{
 "cells": [
  {
   "cell_type": "markdown",
   "id": "c3cf59a3",
   "metadata": {},
   "source": [
    "1.To what does a relative path refer ?"
   ]
  },
  {
   "cell_type": "code",
   "execution_count": null,
   "id": "433129f4",
   "metadata": {},
   "outputs": [],
   "source": [
    "=>The relative path is the path to some file with respect to your current working directory (PWD).\n",
    "PWD + relative path = absolute path"
   ]
  },
  {
   "cell_type": "markdown",
   "id": "d4b203d1",
   "metadata": {},
   "source": [
    "2.The relative path is the path to some file with respect to your current working directory (PWD)."
   ]
  },
  {
   "cell_type": "code",
   "execution_count": null,
   "id": "83c0eb68",
   "metadata": {},
   "outputs": [],
   "source": [
    "=>In Windows based systems absolute path starts with C:"
   ]
  },
  {
   "cell_type": "markdown",
   "id": "bbdc6c74",
   "metadata": {},
   "source": [
    "3.What does the functions os.getcwd() and os.chdir() do ?"
   ]
  },
  {
   "cell_type": "code",
   "execution_count": 1,
   "id": "f14751b2",
   "metadata": {},
   "outputs": [],
   "source": [
    "#=>os.getcwd() method tells us the location of current working directory (CWD).\n",
    "#Whereas os.chdir() method in Python used to change the current working directory to specified path.\n",
    "import os"
   ]
  },
  {
   "cell_type": "code",
   "execution_count": 2,
   "id": "85335e60",
   "metadata": {},
   "outputs": [
    {
     "name": "stdout",
     "output_type": "stream",
     "text": [
      "C:\\Users\\SUSMITA\\Desktop\\PythonProjects\n"
     ]
    }
   ],
   "source": [
    "print(os.getcwd())"
   ]
  },
  {
   "cell_type": "markdown",
   "id": "0b6c4879",
   "metadata": {},
   "source": [
    "4.What are . and .. folders ?"
   ]
  },
  {
   "cell_type": "code",
   "execution_count": null,
   "id": "587f8a6e",
   "metadata": {},
   "outputs": [],
   "source": [
    "=>(.) Represents the Current Directory Whereas (..) Represents the Parent Directory of the Current Directory."
   ]
  },
  {
   "cell_type": "markdown",
   "id": "ee1c4490",
   "metadata": {},
   "source": [
    "5.In C:\\bacon\\eggs\\spam.txt which part is the dir name and which part is the base name ?"
   ]
  },
  {
   "cell_type": "code",
   "execution_count": null,
   "id": "8f314c59",
   "metadata": {},
   "outputs": [],
   "source": [
    "=> C:\\bacon\\eggs : dir name\n",
    "    spam.txt : base name"
   ]
  },
  {
   "cell_type": "code",
   "execution_count": 4,
   "id": "ed8bd416",
   "metadata": {},
   "outputs": [
    {
     "name": "stdout",
     "output_type": "stream",
     "text": [
      "C:\\bacon\\eggs\n",
      "spam.txt\n"
     ]
    }
   ],
   "source": [
    "import os\n",
    "path=r'C:\\bacon\\eggs\\spam.txt'\n",
    "dir_name=os.path.dirname(path)\n",
    "base_name=os.path.basename(path)\n",
    "print(dir_name)\n",
    "print(base_name)"
   ]
  },
  {
   "cell_type": "markdown",
   "id": "1a0aee38",
   "metadata": {},
   "source": [
    "6.What are the three mode arguments that can be passed to the open() function ?"
   ]
  },
  {
   "cell_type": "code",
   "execution_count": null,
   "id": "5d09a6d6",
   "metadata": {},
   "outputs": [],
   "source": [
    "=>A file can be Accessed in python using open() function.\n",
    "open function takes two arguments filename and mode of operation (optional). \n",
    "if mode is not provided the default mode of opening is read mode.\n",
    "So, the syntax being: open(filename, mode)\n",
    "mode: 'r'~ read mode\n",
    "      'w'~ write mode\n",
    "      'r+' ~ read & write mode both.\n",
    "      'a+' ~ append & read mode both.\n",
    "      "
   ]
  },
  {
   "cell_type": "markdown",
   "id": "73f8b83b",
   "metadata": {},
   "source": [
    "8.How do you tell the difference between read() and readlines() ?"
   ]
  },
  {
   "cell_type": "code",
   "execution_count": null,
   "id": "8a5578b9",
   "metadata": {},
   "outputs": [],
   "source": [
    "=> read() will read the whole file at once and then print out the first characters\n",
    "readline() that will only reads a single line of the file and print out only the first characters "
   ]
  }
 ],
 "metadata": {
  "kernelspec": {
   "display_name": "Python 3 (ipykernel)",
   "language": "python",
   "name": "python3"
  },
  "language_info": {
   "codemirror_mode": {
    "name": "ipython",
    "version": 3
   },
   "file_extension": ".py",
   "mimetype": "text/x-python",
   "name": "python",
   "nbconvert_exporter": "python",
   "pygments_lexer": "ipython3",
   "version": "3.10.9"
  }
 },
 "nbformat": 4,
 "nbformat_minor": 5
}
